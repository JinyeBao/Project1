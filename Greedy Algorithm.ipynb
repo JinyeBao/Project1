{
 "cells": [
  {
   "cell_type": "code",
   "execution_count": 2,
   "id": "36370ad9",
   "metadata": {},
   "outputs": [
    {
     "name": "stdout",
     "output_type": "stream",
     "text": [
      "7\n"
     ]
    }
   ],
   "source": [
    "#Greedy Algorithms\n",
    "#Q1\n",
    "import math\n",
    "def get_max_profit(stock_prices):\n",
    "    if len(stock_prices) < 2:\n",
    "        return 0\n",
    "    low = math.inf\n",
    "    max_dif = -math.inf\n",
    "    for i in stock_prices:\n",
    "        max_dif = max(max_dif, i-low)\n",
    "        low = min(low, i)\n",
    "    return max_dif\n",
    "\n",
    "stock_prices = [10,7,5,8,9,11,12]\n",
    "print(get_max_profit(stock_prices))"
   ]
  },
  {
   "cell_type": "code",
   "execution_count": 3,
   "id": "ee154398",
   "metadata": {},
   "outputs": [
    {
     "name": "stdout",
     "output_type": "stream",
     "text": [
      "1188\n"
     ]
    }
   ],
   "source": [
    "#Q2\n",
    "def get_max_product(list_of_ints):\n",
    "    if len(list_of_ints) < 3:\n",
    "        return False\n",
    "    max_ = max(list_of_ints[0], list_of_ints[1])\n",
    "    max_2 = list_of_ints[0]*list_of_ints[1]\n",
    "    max_product = - math.inf\n",
    "    low_ = min(list_of_ints[0], list_of_ints[1])\n",
    "    low_2 = max_2\n",
    "    for i in range(2, len(list_of_ints)):\n",
    "        max_product = max(max_product, max_2 * list_of_ints[i])\n",
    "        max_2 = max(max_2, list_of_ints[i] * max_)\n",
    "        max_ = max(max_, list_of_ints[i])\n",
    "        low_2 = max(low_2, list_of_ints[i] * low_)\n",
    "        low_ = min(low_, list_of_ints[i])\n",
    "    return max(max_product, low_2 * max_)\n",
    "\n",
    "s = [-10,7,5,8,9,-11,-12]    \n",
    "print(get_max_product(s))"
   ]
  },
  {
   "cell_type": "code",
   "execution_count": 4,
   "id": "e6e876be",
   "metadata": {},
   "outputs": [
    {
     "name": "stdout",
     "output_type": "stream",
     "text": [
      "[84, 12, 28, 21]\n"
     ]
    }
   ],
   "source": [
    "#Q3\n",
    "def get_products_of_all_ints_except_at_index(list_int):\n",
    "    list_product = []\n",
    "    for i in range(len(list_int)):\n",
    "        product_before = 1\n",
    "        product_after = 1\n",
    "        for j in range(0,i):\n",
    "            product_before *= list_int[j]\n",
    "        for u in range(i+1,len(list_int)):\n",
    "            product_after *= list_int[u]\n",
    "        list_product.append(product_before * product_after)\n",
    "    return list_product\n",
    "\n",
    "print(get_products_of_all_ints_except_at_index([1,7,3,4]))\n"
   ]
  }
 ],
 "metadata": {
  "kernelspec": {
   "display_name": "Python 3",
   "language": "python",
   "name": "python3"
  },
  "language_info": {
   "codemirror_mode": {
    "name": "ipython",
    "version": 3
   },
   "file_extension": ".py",
   "mimetype": "text/x-python",
   "name": "python",
   "nbconvert_exporter": "python",
   "pygments_lexer": "ipython3",
   "version": "3.8.8"
  }
 },
 "nbformat": 4,
 "nbformat_minor": 5
}
